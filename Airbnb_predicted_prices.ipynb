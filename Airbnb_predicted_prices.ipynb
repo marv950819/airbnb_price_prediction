{
 "cells": [
  {
   "cell_type": "markdown",
   "metadata": {},
   "source": [
    "##   Imports & Definitions"
   ]
  },
  {
   "cell_type": "code",
   "execution_count": 10,
   "metadata": {
    "ExecuteTime": {
     "end_time": "2020-04-10T18:43:25.163086Z",
     "start_time": "2020-04-10T18:43:25.153589Z"
    }
   },
   "outputs": [],
   "source": [
    "# Load required libraries\n",
    "\n",
    "import numpy as np\n",
    "import pandas as pd\n",
    "from sklearn.preprocessing import OneHotEncoder, LabelEncoder\n",
    "from sklearn.ensemble import RandomForestRegressor\n",
    "import matplotlib.pyplot as plt\n",
    "from collections import Counter\n",
    "import seaborn as sns\n",
    "from sklearn.metrics import r2_score\n",
    "from sklearn.model_selection import KFold\n",
    "import xgboost as xgb\n",
    "import pickle\n",
    "%matplotlib inline"
   ]
  },
  {
   "cell_type": "markdown",
   "metadata": {},
   "source": [
    "## Load Data"
   ]
  },
  {
   "cell_type": "code",
   "execution_count": 11,
   "metadata": {
    "ExecuteTime": {
     "end_time": "2020-04-10T18:43:26.822387Z",
     "start_time": "2020-04-10T18:43:25.224557Z"
    }
   },
   "outputs": [],
   "source": [
    "path  = \"\"\n",
    "train = pd.read_csv(path + \"train.csv\")\n",
    "test  = pd.read_csv(path + \"test.csv\")"
   ]
  },
  {
   "cell_type": "markdown",
   "metadata": {
    "ExecuteTime": {
     "end_time": "2020-04-08T04:52:55.833133Z",
     "start_time": "2020-04-08T04:52:55.825182Z"
    }
   },
   "source": [
    "## Cleaning data"
   ]
  },
  {
   "cell_type": "code",
   "execution_count": 12,
   "metadata": {
    "ExecuteTime": {
     "end_time": "2020-04-10T18:43:26.926148Z",
     "start_time": "2020-04-10T18:43:26.825027Z"
    }
   },
   "outputs": [],
   "source": [
    "train['dataset'] = \"train\"\n",
    "train = train.dropna(how='any', subset=['log_price'])"
   ]
  },
  {
   "cell_type": "code",
   "execution_count": 13,
   "metadata": {
    "ExecuteTime": {
     "end_time": "2020-04-10T18:43:27.019642Z",
     "start_time": "2020-04-10T18:43:26.928410Z"
    }
   },
   "outputs": [
    {
     "name": "stderr",
     "output_type": "stream",
     "text": [
      "/home/vero-apli/.local/lib/python3.7/site-packages/ipykernel_launcher.py:2: FutureWarning: Sorting because non-concatenation axis is not aligned. A future version\n",
      "of pandas will change to not sort by default.\n",
      "\n",
      "To accept the future behavior, pass 'sort=False'.\n",
      "\n",
      "To retain the current behavior and silence the warning, pass 'sort=True'.\n",
      "\n",
      "  \n"
     ]
    }
   ],
   "source": [
    "test['dataset'] = \"test\"\n",
    "data = pd.concat([train,test], axis = 0)"
   ]
  },
  {
   "cell_type": "code",
   "execution_count": 14,
   "metadata": {
    "ExecuteTime": {
     "end_time": "2020-04-10T18:43:27.066364Z",
     "start_time": "2020-04-10T18:43:27.022017Z"
    }
   },
   "outputs": [
    {
     "data": {
      "text/html": [
       "<div>\n",
       "<style scoped>\n",
       "    .dataframe tbody tr th:only-of-type {\n",
       "        vertical-align: middle;\n",
       "    }\n",
       "\n",
       "    .dataframe tbody tr th {\n",
       "        vertical-align: top;\n",
       "    }\n",
       "\n",
       "    .dataframe thead th {\n",
       "        text-align: right;\n",
       "    }\n",
       "</style>\n",
       "<table border=\"1\" class=\"dataframe\">\n",
       "  <thead>\n",
       "    <tr style=\"text-align: right;\">\n",
       "      <th></th>\n",
       "      <th>accommodates</th>\n",
       "      <th>amenities</th>\n",
       "      <th>bathrooms</th>\n",
       "      <th>bed_type</th>\n",
       "      <th>bedrooms</th>\n",
       "      <th>beds</th>\n",
       "      <th>cancellation_policy</th>\n",
       "      <th>city</th>\n",
       "      <th>cleaning_fee</th>\n",
       "      <th>dataset</th>\n",
       "      <th>...</th>\n",
       "      <th>log_price</th>\n",
       "      <th>longitude</th>\n",
       "      <th>name</th>\n",
       "      <th>neighbourhood</th>\n",
       "      <th>number_of_reviews</th>\n",
       "      <th>property_type</th>\n",
       "      <th>review_scores_rating</th>\n",
       "      <th>room_type</th>\n",
       "      <th>thumbnail_url</th>\n",
       "      <th>zipcode</th>\n",
       "    </tr>\n",
       "  </thead>\n",
       "  <tbody>\n",
       "    <tr>\n",
       "      <th>0</th>\n",
       "      <td>3</td>\n",
       "      <td>{\"Wireless Internet\",\"Air conditioning\",Kitche...</td>\n",
       "      <td>1.0</td>\n",
       "      <td>Real Bed</td>\n",
       "      <td>1.0</td>\n",
       "      <td>1.0</td>\n",
       "      <td>strict</td>\n",
       "      <td>NYC</td>\n",
       "      <td>True</td>\n",
       "      <td>train</td>\n",
       "      <td>...</td>\n",
       "      <td>5.010635</td>\n",
       "      <td>-73.991617</td>\n",
       "      <td>Beautiful brownstone 1-bedroom</td>\n",
       "      <td>Brooklyn Heights</td>\n",
       "      <td>2</td>\n",
       "      <td>Apartment</td>\n",
       "      <td>100.0</td>\n",
       "      <td>Entire home/apt</td>\n",
       "      <td>https://a0.muscache.com/im/pictures/6d7cbbf7-c...</td>\n",
       "      <td>11201</td>\n",
       "    </tr>\n",
       "    <tr>\n",
       "      <th>1</th>\n",
       "      <td>7</td>\n",
       "      <td>{\"Wireless Internet\",\"Air conditioning\",Kitche...</td>\n",
       "      <td>1.0</td>\n",
       "      <td>Real Bed</td>\n",
       "      <td>3.0</td>\n",
       "      <td>3.0</td>\n",
       "      <td>strict</td>\n",
       "      <td>NYC</td>\n",
       "      <td>True</td>\n",
       "      <td>train</td>\n",
       "      <td>...</td>\n",
       "      <td>5.129899</td>\n",
       "      <td>-73.989040</td>\n",
       "      <td>Superb 3BR Apt Located Near Times Square</td>\n",
       "      <td>Hell's Kitchen</td>\n",
       "      <td>6</td>\n",
       "      <td>Apartment</td>\n",
       "      <td>93.0</td>\n",
       "      <td>Entire home/apt</td>\n",
       "      <td>https://a0.muscache.com/im/pictures/348a55fe-4...</td>\n",
       "      <td>10019</td>\n",
       "    </tr>\n",
       "    <tr>\n",
       "      <th>2</th>\n",
       "      <td>5</td>\n",
       "      <td>{TV,\"Cable TV\",\"Wireless Internet\",\"Air condit...</td>\n",
       "      <td>1.0</td>\n",
       "      <td>Real Bed</td>\n",
       "      <td>1.0</td>\n",
       "      <td>3.0</td>\n",
       "      <td>moderate</td>\n",
       "      <td>NYC</td>\n",
       "      <td>True</td>\n",
       "      <td>train</td>\n",
       "      <td>...</td>\n",
       "      <td>4.976734</td>\n",
       "      <td>-73.943756</td>\n",
       "      <td>The Garden Oasis</td>\n",
       "      <td>Harlem</td>\n",
       "      <td>10</td>\n",
       "      <td>Apartment</td>\n",
       "      <td>92.0</td>\n",
       "      <td>Entire home/apt</td>\n",
       "      <td>https://a0.muscache.com/im/pictures/6fae5362-9...</td>\n",
       "      <td>10027</td>\n",
       "    </tr>\n",
       "    <tr>\n",
       "      <th>3</th>\n",
       "      <td>4</td>\n",
       "      <td>{TV,\"Cable TV\",Internet,\"Wireless Internet\",Ki...</td>\n",
       "      <td>1.0</td>\n",
       "      <td>Real Bed</td>\n",
       "      <td>2.0</td>\n",
       "      <td>2.0</td>\n",
       "      <td>flexible</td>\n",
       "      <td>SF</td>\n",
       "      <td>True</td>\n",
       "      <td>train</td>\n",
       "      <td>...</td>\n",
       "      <td>6.620073</td>\n",
       "      <td>-122.431619</td>\n",
       "      <td>Beautiful Flat in the Heart of SF!</td>\n",
       "      <td>Lower Haight</td>\n",
       "      <td>0</td>\n",
       "      <td>House</td>\n",
       "      <td>NaN</td>\n",
       "      <td>Entire home/apt</td>\n",
       "      <td>https://a0.muscache.com/im/pictures/72208dad-9...</td>\n",
       "      <td>94117.0</td>\n",
       "    </tr>\n",
       "    <tr>\n",
       "      <th>4</th>\n",
       "      <td>2</td>\n",
       "      <td>{TV,Internet,\"Wireless Internet\",\"Air conditio...</td>\n",
       "      <td>1.0</td>\n",
       "      <td>Real Bed</td>\n",
       "      <td>0.0</td>\n",
       "      <td>1.0</td>\n",
       "      <td>moderate</td>\n",
       "      <td>DC</td>\n",
       "      <td>True</td>\n",
       "      <td>train</td>\n",
       "      <td>...</td>\n",
       "      <td>4.744932</td>\n",
       "      <td>-77.034596</td>\n",
       "      <td>Great studio in midtown DC</td>\n",
       "      <td>Columbia Heights</td>\n",
       "      <td>4</td>\n",
       "      <td>Apartment</td>\n",
       "      <td>40.0</td>\n",
       "      <td>Entire home/apt</td>\n",
       "      <td>NaN</td>\n",
       "      <td>20009</td>\n",
       "    </tr>\n",
       "  </tbody>\n",
       "</table>\n",
       "<p>5 rows × 30 columns</p>\n",
       "</div>"
      ],
      "text/plain": [
       "   accommodates                                          amenities  bathrooms  \\\n",
       "0             3  {\"Wireless Internet\",\"Air conditioning\",Kitche...        1.0   \n",
       "1             7  {\"Wireless Internet\",\"Air conditioning\",Kitche...        1.0   \n",
       "2             5  {TV,\"Cable TV\",\"Wireless Internet\",\"Air condit...        1.0   \n",
       "3             4  {TV,\"Cable TV\",Internet,\"Wireless Internet\",Ki...        1.0   \n",
       "4             2  {TV,Internet,\"Wireless Internet\",\"Air conditio...        1.0   \n",
       "\n",
       "   bed_type  bedrooms  beds cancellation_policy city  cleaning_fee dataset  \\\n",
       "0  Real Bed       1.0   1.0              strict  NYC          True   train   \n",
       "1  Real Bed       3.0   3.0              strict  NYC          True   train   \n",
       "2  Real Bed       1.0   3.0            moderate  NYC          True   train   \n",
       "3  Real Bed       2.0   2.0            flexible   SF          True   train   \n",
       "4  Real Bed       0.0   1.0            moderate   DC          True   train   \n",
       "\n",
       "   ... log_price   longitude                                      name  \\\n",
       "0  ...  5.010635  -73.991617            Beautiful brownstone 1-bedroom   \n",
       "1  ...  5.129899  -73.989040  Superb 3BR Apt Located Near Times Square   \n",
       "2  ...  4.976734  -73.943756                          The Garden Oasis   \n",
       "3  ...  6.620073 -122.431619        Beautiful Flat in the Heart of SF!   \n",
       "4  ...  4.744932  -77.034596                Great studio in midtown DC   \n",
       "\n",
       "      neighbourhood number_of_reviews property_type  review_scores_rating  \\\n",
       "0  Brooklyn Heights                 2     Apartment                 100.0   \n",
       "1    Hell's Kitchen                 6     Apartment                  93.0   \n",
       "2            Harlem                10     Apartment                  92.0   \n",
       "3      Lower Haight                 0         House                   NaN   \n",
       "4  Columbia Heights                 4     Apartment                  40.0   \n",
       "\n",
       "         room_type                                      thumbnail_url  zipcode  \n",
       "0  Entire home/apt  https://a0.muscache.com/im/pictures/6d7cbbf7-c...    11201  \n",
       "1  Entire home/apt  https://a0.muscache.com/im/pictures/348a55fe-4...    10019  \n",
       "2  Entire home/apt  https://a0.muscache.com/im/pictures/6fae5362-9...    10027  \n",
       "3  Entire home/apt  https://a0.muscache.com/im/pictures/72208dad-9...  94117.0  \n",
       "4  Entire home/apt                                                NaN    20009  \n",
       "\n",
       "[5 rows x 30 columns]"
      ]
     },
     "execution_count": 14,
     "metadata": {},
     "output_type": "execute_result"
    }
   ],
   "source": [
    "data.head()"
   ]
  },
  {
   "cell_type": "code",
   "execution_count": 15,
   "metadata": {
    "ExecuteTime": {
     "end_time": "2020-04-10T18:43:27.174239Z",
     "start_time": "2020-04-10T18:43:27.067963Z"
    }
   },
   "outputs": [],
   "source": [
    "data = data[[\n",
    "    'id',\n",
    "    'log_price', \n",
    "    'property_type', \n",
    "    'room_type',\n",
    "    'accommodates',\n",
    "    'bathrooms',\n",
    "    'bed_type', \n",
    "    'cancellation_policy',\n",
    "    'cleaning_fee',\n",
    "    'city',\n",
    "    'first_review',\n",
    "    'host_has_profile_pic',\n",
    "    'host_identity_verified',\n",
    "    'host_response_rate',\n",
    "    'instant_bookable', \n",
    "    'last_review', \n",
    "    'latitude',\n",
    "    'longitude',\n",
    "    'number_of_reviews',\n",
    "    'review_scores_rating', \n",
    "    'bedrooms',\n",
    "    'beds',\n",
    "    'dataset']]"
   ]
  },
  {
   "cell_type": "code",
   "execution_count": 16,
   "metadata": {
    "ExecuteTime": {
     "end_time": "2020-04-10T18:43:27.202725Z",
     "start_time": "2020-04-10T18:43:27.177090Z"
    }
   },
   "outputs": [],
   "source": [
    "# drop inconsistent values\n",
    "data = data[data['log_price'] != 0.00]"
   ]
  },
  {
   "cell_type": "code",
   "execution_count": 17,
   "metadata": {
    "ExecuteTime": {
     "end_time": "2020-04-10T18:43:27.291794Z",
     "start_time": "2020-04-10T18:43:27.208858Z"
    }
   },
   "outputs": [],
   "source": [
    "# convert date columns to datetime type\n",
    "data.last_review  = pd.to_datetime(data.last_review)\n",
    "data.first_review = pd.to_datetime(data.first_review)"
   ]
  },
  {
   "cell_type": "code",
   "execution_count": 18,
   "metadata": {
    "ExecuteTime": {
     "end_time": "2020-04-10T18:43:27.311667Z",
     "start_time": "2020-04-10T18:43:27.296014Z"
    }
   },
   "outputs": [],
   "source": [
    "data[\"review_days\"] = (data.last_review - data.first_review).dt.days"
   ]
  },
  {
   "cell_type": "code",
   "execution_count": 19,
   "metadata": {
    "ExecuteTime": {
     "end_time": "2020-04-10T18:43:27.347960Z",
     "start_time": "2020-04-10T18:43:27.315028Z"
    }
   },
   "outputs": [],
   "source": [
    "data.drop(['last_review', 'first_review'], inplace = True, axis=1)"
   ]
  },
  {
   "cell_type": "markdown",
   "metadata": {
    "ExecuteTime": {
     "end_time": "2020-04-08T01:36:34.935643Z",
     "start_time": "2020-04-08T01:36:34.929396Z"
    }
   },
   "source": [
    "## Descriptive analysis"
   ]
  },
  {
   "cell_type": "code",
   "execution_count": 20,
   "metadata": {
    "ExecuteTime": {
     "end_time": "2020-04-10T18:43:27.355768Z",
     "start_time": "2020-04-10T18:43:27.349927Z"
    }
   },
   "outputs": [],
   "source": [
    "def plot_hist(n, titles, ranges):\n",
    "    fig, ax = plt.subplots(n, figsize = (8, 7.5))\n",
    "    for i in range(n):\n",
    "        d, bins, patches = ax[i].hist(ranges[i], 50, normed = 1, color= BNB_RED, alpha = 0.85)\n",
    "        ax[i].set_title(titles[i])\n",
    "        ax[i].set_xlabel(\"log_price\")\n",
    "        ax[i].set_ylabel(\"Frequency\")\n",
    "    plt.tight_layout()\n",
    "    plt.show()"
   ]
  },
  {
   "cell_type": "code",
   "execution_count": 21,
   "metadata": {
    "ExecuteTime": {
     "end_time": "2020-04-10T18:43:28.275685Z",
     "start_time": "2020-04-10T18:43:27.358891Z"
    }
   },
   "outputs": [
    {
     "name": "stderr",
     "output_type": "stream",
     "text": [
      "/home/vero-apli/.local/lib/python3.7/site-packages/ipykernel_launcher.py:4: MatplotlibDeprecationWarning: \n",
      "The 'normed' kwarg was deprecated in Matplotlib 2.1 and will be removed in 3.1. Use 'density' instead.\n",
      "  after removing the cwd from sys.path.\n",
      "/home/vero-apli/.local/lib/python3.7/site-packages/numpy/lib/histograms.py:839: RuntimeWarning: invalid value encountered in greater_equal\n",
      "  keep = (tmp_a >= first_edge)\n",
      "/home/vero-apli/.local/lib/python3.7/site-packages/numpy/lib/histograms.py:840: RuntimeWarning: invalid value encountered in less_equal\n",
      "  keep &= (tmp_a <= last_edge)\n"
     ]
    },
    {
     "data": {
      "image/png": "[encoded data removed]",
      "text/plain": [
       "<Figure size 576x540 with 3 Axes>"
      ]
     },
     "metadata": {
      "needs_background": "light"
     },
     "output_type": "display_data"
    }
   ],
   "source": [
    "# Let's find out how the prices are distributed\n",
    "BNB_RED   = '#FF5A5F'\n",
    "prices    = data['log_price']\n",
    "max_price = max(data.log_price)\n",
    "min_price = min(data.log_price)\n",
    "# Plot histograms of price distribution\n",
    "plot_hist(3, ['Distribution of Listing Prices: All Data', 'Distribution of Listing Prices: 0 - 4.5', \n",
    "               'Distribution of Listing Prices: 0 - '+ str(max_price)], [prices, prices[prices <= 4.5], prices[prices < 6]])"
   ]
  },
  {
   "cell_type": "markdown",
   "metadata": {},
   "source": [
    "The main log_price range is between 3 and 6."
   ]
  },
  {
   "cell_type": "code",
   "execution_count": 22,
   "metadata": {
    "ExecuteTime": {
     "end_time": "2020-04-10T18:43:28.291169Z",
     "start_time": "2020-04-10T18:43:28.277780Z"
    }
   },
   "outputs": [],
   "source": [
    "# Group data, counting accommodates by city \n",
    "city_price = data.groupby(\"city\").accommodates.sum()"
   ]
  },
  {
   "cell_type": "code",
   "execution_count": 23,
   "metadata": {
    "ExecuteTime": {
     "end_time": "2020-04-10T18:43:28.504356Z",
     "start_time": "2020-04-10T18:43:28.293145Z"
    }
   },
   "outputs": [
    {
     "data": {
      "image/png": "[encoded data removed]",
      "text/plain": [
       "<Figure size 432x288 with 1 Axes>"
      ]
     },
     "metadata": {
      "needs_background": "light"
     },
     "output_type": "display_data"
    }
   ],
   "source": [
    "# Let's see the cities and their respective accommodations\n",
    "height = city_price\n",
    "bars   = city_price.index\n",
    "y_pos  = np.arange(len(bars))\n",
    " \n",
    "# Bars\n",
    "plt.bar(y_pos, height)\n",
    " \n",
    "# Names on the x-axis\n",
    "plt.xticks(y_pos, bars)\n",
    " \n",
    "# Show graphic\n",
    "plt.show()"
   ]
  },
  {
   "cell_type": "markdown",
   "metadata": {},
   "source": [
    "The largest number of accommodations are in NYC and LA."
   ]
  },
  {
   "cell_type": "code",
   "execution_count": 24,
   "metadata": {
    "ExecuteTime": {
     "end_time": "2020-04-10T18:43:28.516944Z",
     "start_time": "2020-04-10T18:43:28.506483Z"
    }
   },
   "outputs": [],
   "source": [
    "# Group data, counting accommodates by property_type \n",
    "city_property_type = data.groupby(\"property_type\").accommodates.sum()"
   ]
  },
  {
   "cell_type": "code",
   "execution_count": 25,
   "metadata": {
    "ExecuteTime": {
     "end_time": "2020-04-10T18:43:29.068346Z",
     "start_time": "2020-04-10T18:43:28.518671Z"
    }
   },
   "outputs": [
    {
     "data": {
      "image/png": "[encoded data removed]",
      "text/plain": [
       "<Figure size 1440x720 with 1 Axes>"
      ]
     },
     "metadata": {
      "needs_background": "light"
     },
     "output_type": "display_data"
    }
   ],
   "source": [
    "height = city_property_type\n",
    "bars   = city_property_type.index\n",
    "y_pos  = np.arange(len(bars))\n",
    "\n",
    "plt.figure(figsize=(20,10))\n",
    "# Bars\n",
    "plt.barh(y_pos, height)\n",
    " \n",
    "# Names on the y-axis\n",
    "plt.yticks(y_pos, bars)\n",
    "\n",
    "# Show graphic\n",
    "plt.show()"
   ]
  },
  {
   "cell_type": "code",
   "execution_count": 26,
   "metadata": {
    "ExecuteTime": {
     "end_time": "2020-04-10T18:43:29.521037Z",
     "start_time": "2020-04-10T18:43:29.070269Z"
    }
   },
   "outputs": [
    {
     "name": "stderr",
     "output_type": "stream",
     "text": [
      "/home/vero-apli/.local/lib/python3.7/site-packages/ipykernel_launcher.py:3: SettingWithCopyWarning: \n",
      "A value is trying to be set on a copy of a slice from a DataFrame.\n",
      "Try using .loc[row_indexer,col_indexer] = value instead\n",
      "\n",
      "See the caveats in the documentation: http://pandas.pydata.org/pandas-docs/stable/user_guide/indexing.html#returning-a-view-versus-a-copy\n",
      "  This is separate from the ipykernel package so we can avoid doing imports until\n"
     ]
    },
    {
     "data": {
      "text/plain": [
       "<matplotlib.axes._subplots.AxesSubplot at 0x7f76ad866710>"
      ]
     },
     "execution_count": 26,
     "metadata": {},
     "output_type": "execute_result"
    },
    {
     "data": {
      "image/png": "[encoded data removed]",
      "text/plain": [
       "<Figure size 720x576 with 1 Axes>"
      ]
     },
     "metadata": {
      "needs_background": "light"
     },
     "output_type": "display_data"
    }
   ],
   "source": [
    "# Graph to know how the prices are distributed according to the city\n",
    "city_price_df = data[['city','log_price']]\n",
    "city_price_df['Price'] = (city_price_df['log_price'])\n",
    "city_price_df[['city','Price']].boxplot(by = 'city', figsize=(10, 8), vert=False)"
   ]
  },
  {
   "cell_type": "markdown",
   "metadata": {},
   "source": [
    "With the graphs made earlier we can see that there are some outliers in the data."
   ]
  },
  {
   "cell_type": "code",
   "execution_count": 27,
   "metadata": {
    "ExecuteTime": {
     "end_time": "2020-04-10T18:43:29.545935Z",
     "start_time": "2020-04-10T18:43:29.522952Z"
    }
   },
   "outputs": [],
   "source": [
    "# Deleting outliers to make our prediction better\n",
    "data = data[((data[\"log_price\"] >= int(3)) & (data[\"log_price\"] <= int(6)) ) | (data[\"dataset\"] == \"test\")]"
   ]
  },
  {
   "cell_type": "code",
   "execution_count": 28,
   "metadata": {
    "ExecuteTime": {
     "end_time": "2020-04-10T18:43:29.573210Z",
     "start_time": "2020-04-10T18:43:29.548524Z"
    }
   },
   "outputs": [
    {
     "data": {
      "text/plain": [
       "Index(['id', 'log_price', 'accommodates', 'bathrooms', 'latitude', 'longitude',\n",
       "       'number_of_reviews', 'review_scores_rating', 'bedrooms', 'beds',\n",
       "       'review_days'],\n",
       "      dtype='object')"
      ]
     },
     "execution_count": 28,
     "metadata": {},
     "output_type": "execute_result"
    }
   ],
   "source": [
    "data.select_dtypes(include = numerics).columns"
   ]
  },
  {
   "cell_type": "code",
   "execution_count": 29,
   "metadata": {
    "ExecuteTime": {
     "end_time": "2020-04-10T18:43:30.005976Z",
     "start_time": "2020-04-10T18:43:29.575186Z"
    }
   },
   "outputs": [
    {
     "data": {
      "text/plain": [
       "[Text(0.5, 0, 'bedrooms'),\n",
       " Text(1.5, 0, 'accommodates'),\n",
       " Text(2.5, 0, 'log_price'),\n",
       " Text(3.5, 0, 'beds'),\n",
       " Text(4.5, 0, 'bathrooms'),\n",
       " Text(5.5, 0, 'number_of_reviews'),\n",
       " Text(6.5, 0, 'review_scores_rating'),\n",
       " Text(7.5, 0, 'latitude'),\n",
       " Text(8.5, 0, 'longitude')]"
      ]
     },
     "execution_count": 29,
     "metadata": {},
     "output_type": "execute_result"
    },
    {
     "data": {
      "image/png": "[encoded data removed]",
      "text/plain": [
       "<Figure size 432x288 with 2 Axes>"
      ]
     },
     "metadata": {
      "needs_background": "light"
     },
     "output_type": "display_data"
    }
   ],
   "source": [
    "# Correlation between numerical variables\n",
    "columns = [\"bedrooms\", \"accommodates\", 'log_price', \"beds\", \"bathrooms\", \"number_of_reviews\",\"review_scores_rating\",\"latitude\",\"longitude\"] \n",
    "corr = data[columns].corr()\n",
    "ax = sns.heatmap(\n",
    "    corr, \n",
    "    vmin=-1, vmax=1, center=0,\n",
    "    cmap=sns.diverging_palette(20, 220, n=200),\n",
    "    square=True\n",
    ")\n",
    "ax.set_xticklabels(\n",
    "    ax.get_xticklabels(),\n",
    "    rotation=45,\n",
    "    horizontalalignment='right'\n",
    ")\n",
    "    "
   ]
  },
  {
   "cell_type": "markdown",
   "metadata": {},
   "source": [
    "The number of are the variables accommodates, bedrooms, beds that are most related to the price."
   ]
  },
  {
   "cell_type": "markdown",
   "metadata": {},
   "source": [
    "## Data preparation"
   ]
  },
  {
   "cell_type": "code",
   "execution_count": 30,
   "metadata": {
    "ExecuteTime": {
     "end_time": "2020-04-10T18:43:30.088643Z",
     "start_time": "2020-04-10T18:43:30.008219Z"
    }
   },
   "outputs": [],
   "source": [
    "# One-hot-encode categorical variables\n",
    "categorical = ['property_type','room_type','bed_type','cancellation_policy','city']\n",
    "data        = pd.get_dummies(data, columns = categorical)"
   ]
  },
  {
   "cell_type": "code",
   "execution_count": 31,
   "metadata": {
    "ExecuteTime": {
     "end_time": "2020-04-10T18:43:30.096659Z",
     "start_time": "2020-04-10T18:43:30.091517Z"
    }
   },
   "outputs": [],
   "source": [
    "# Those variables have binary values which are represented by [t,f,True or False]\n",
    "binary_columns = {\n",
    "     'cleaning_fee',\n",
    "     'host_has_profile_pic',\n",
    "     'host_identity_verified',\n",
    "     'instant_bookable'\n",
    " }"
   ]
  },
  {
   "cell_type": "code",
   "execution_count": 32,
   "metadata": {
    "ExecuteTime": {
     "end_time": "2020-04-10T18:43:30.105339Z",
     "start_time": "2020-04-10T18:43:30.099001Z"
    }
   },
   "outputs": [],
   "source": [
    "binary_map = {'t' : 1, 'f' : 0, True : 1, False : 0, np.nan : np.nan }"
   ]
  },
  {
   "cell_type": "code",
   "execution_count": 33,
   "metadata": {
    "ExecuteTime": {
     "end_time": "2020-04-10T18:43:30.143519Z",
     "start_time": "2020-04-10T18:43:30.110107Z"
    }
   },
   "outputs": [],
   "source": [
    "# mapping different binary representations with 0 and 1\n",
    "for column in binary_columns:\n",
    "    data[column] = data[column].map(binary_map)"
   ]
  },
  {
   "cell_type": "code",
   "execution_count": 34,
   "metadata": {
    "ExecuteTime": {
     "end_time": "2020-04-10T18:43:30.176977Z",
     "start_time": "2020-04-10T18:43:30.145759Z"
    }
   },
   "outputs": [],
   "source": [
    "# filling the empty data\n",
    "data = data.fillna(0)"
   ]
  },
  {
   "cell_type": "code",
   "execution_count": 35,
   "metadata": {
    "ExecuteTime": {
     "end_time": "2020-04-10T18:43:30.190339Z",
     "start_time": "2020-04-10T18:43:30.178845Z"
    }
   },
   "outputs": [
    {
     "data": {
      "text/plain": [
       "0       0\n",
       "1    100%\n",
       "2    100%\n",
       "4    100%\n",
       "5    100%\n",
       "Name: host_response_rate, dtype: object"
      ]
     },
     "execution_count": 35,
     "metadata": {},
     "output_type": "execute_result"
    }
   ],
   "source": [
    "data['host_response_rate'].head(5)"
   ]
  },
  {
   "cell_type": "code",
   "execution_count": 36,
   "metadata": {
    "ExecuteTime": {
     "end_time": "2020-04-10T18:43:30.278440Z",
     "start_time": "2020-04-10T18:43:30.192729Z"
    }
   },
   "outputs": [],
   "source": [
    "# replacing \"%\" with \"\" and changing the data type to int \n",
    "data['host_response_rate'] = data['host_response_rate'].apply(lambda x: str(x).replace(\"%\", \"\")).astype(int)"
   ]
  },
  {
   "cell_type": "code",
   "execution_count": 37,
   "metadata": {
    "ExecuteTime": {
     "end_time": "2020-04-10T18:43:30.395925Z",
     "start_time": "2020-04-10T18:43:30.280997Z"
    }
   },
   "outputs": [],
   "source": [
    "train_dataset = data[data.dataset == \"train\"].drop([\"dataset\", \"id\", \"log_price\"] ,axis = 1).select_dtypes(include=numerics).fillna(0)\n",
    "test_dataset  = data[data.dataset == \"test\"].drop([\"dataset\", \"id\", \"log_price\"],axis = 1).select_dtypes(include=numerics).fillna(0)"
   ]
  },
  {
   "cell_type": "markdown",
   "metadata": {},
   "source": [
    "## split train and test data"
   ]
  },
  {
   "cell_type": "code",
   "execution_count": 38,
   "metadata": {
    "ExecuteTime": {
     "end_time": "2020-04-10T18:43:30.428400Z",
     "start_time": "2020-04-10T18:43:30.398423Z"
    }
   },
   "outputs": [],
   "source": [
    "# Select only numeric data and impute missing values as 0\n",
    "numerics = ['uint8','int16', 'int32', 'int64', 'float16', 'float32', 'float64']\n",
    "train_x  = train_dataset.values\n",
    "test_x = test_dataset.values\n",
    "train_y = data[data.dataset == \"train\"].log_price.values"
   ]
  },
  {
   "cell_type": "markdown",
   "metadata": {},
   "source": [
    "## Train and evaluation models"
   ]
  },
  {
   "cell_type": "markdown",
   "metadata": {},
   "source": [
    "### RandomForestRegressor model with cross-validation"
   ]
  },
  {
   "cell_type": "code",
   "execution_count": 39,
   "metadata": {
    "ExecuteTime": {
     "end_time": "2020-04-10T18:43:42.894633Z",
     "start_time": "2020-04-10T18:43:30.430378Z"
    }
   },
   "outputs": [
    {
     "name": "stdout",
     "output_type": "stream",
     "text": [
      "RMSE for current split: 0.3521674288594288\n",
      "RMSE for current split: 0.3481452093063437\n",
      "RMSE for current split: 0.35002195380685464\n"
     ]
    }
   ],
   "source": [
    "# Train a Random Forest model with cross-validation\n",
    "\n",
    "cv_groups = KFold(n_splits=3)\n",
    "regr = RandomForestRegressor(random_state = 0, n_estimators = 10)\n",
    "\n",
    "for train_index, test_index in cv_groups.split(train_x):\n",
    "    \n",
    "    # Train the model using the training sets\n",
    "    regr.fit(train_x[train_index], train_y[train_index])\n",
    "    \n",
    "    # Make predictions using the testing set\n",
    "    pred_rf = regr.predict(train_x[test_index])\n",
    "    \n",
    "    # Calculate RMSE for current cross-validation split\n",
    "    rmse = str(np.sqrt(np.mean((train_y[test_index] - pred_rf)**2)))\n",
    "    \n",
    "    print(\"RMSE for current split: \" + rmse)"
   ]
  },
  {
   "cell_type": "markdown",
   "metadata": {
    "ExecuteTime": {
     "end_time": "2020-04-10T06:01:37.557406Z",
     "start_time": "2020-04-10T06:01:37.553958Z"
    }
   },
   "source": [
    "### RandomForestRegressor model with oob_score"
   ]
  },
  {
   "cell_type": "code",
   "execution_count": 40,
   "metadata": {
    "ExecuteTime": {
     "end_time": "2020-04-10T18:44:54.213963Z",
     "start_time": "2020-04-10T18:43:42.896693Z"
    }
   },
   "outputs": [
    {
     "name": "stdout",
     "output_type": "stream",
     "text": [
      "RMSE: 0.12359279147632507\n",
      "oob_score: 0.6848401267525702\n",
      "r2_score: 0.9566529673749281\n"
     ]
    }
   ],
   "source": [
    "# make an instance of the model\n",
    "rf = RandomForestRegressor(random_state = 42 ,n_estimators = 100, oob_score=True)\n",
    "# Train the model\n",
    "rf.fit(train_x, train_y)\n",
    "# Make predictions\n",
    "pred_rf = rf.predict(train_x)\n",
    "\n",
    "# Calculate RMSE \n",
    "rmse = str(np.sqrt(np.mean((train_y - pred_rf)**2)))\n",
    "\n",
    "print(\"RMSE: \" + rmse)\n",
    "print(\"oob_score: \" + str(rf.oob_score_))\n",
    "print(\"r2_score: \" + str(r2_score(train_y,pred_rf)))"
   ]
  },
  {
   "cell_type": "code",
   "execution_count": 41,
   "metadata": {
    "ExecuteTime": {
     "end_time": "2020-04-10T18:44:54.328609Z",
     "start_time": "2020-04-10T18:44:54.218597Z"
    }
   },
   "outputs": [],
   "source": [
    "feature_importances = pd.DataFrame(rf.feature_importances_,\n",
    "                       index = train_dataset.columns,\n",
    "                        columns=['importance']).sort_values('importance',ascending=False)"
   ]
  },
  {
   "cell_type": "code",
   "execution_count": 42,
   "metadata": {
    "ExecuteTime": {
     "end_time": "2020-04-10T18:44:54.344549Z",
     "start_time": "2020-04-10T18:44:54.332441Z"
    }
   },
   "outputs": [
    {
     "data": {
      "text/html": [
       "<div>\n",
       "<style scoped>\n",
       "    .dataframe tbody tr th:only-of-type {\n",
       "        vertical-align: middle;\n",
       "    }\n",
       "\n",
       "    .dataframe tbody tr th {\n",
       "        vertical-align: top;\n",
       "    }\n",
       "\n",
       "    .dataframe thead th {\n",
       "        text-align: right;\n",
       "    }\n",
       "</style>\n",
       "<table border=\"1\" class=\"dataframe\">\n",
       "  <thead>\n",
       "    <tr style=\"text-align: right;\">\n",
       "      <th></th>\n",
       "      <th>importance</th>\n",
       "    </tr>\n",
       "  </thead>\n",
       "  <tbody>\n",
       "    <tr>\n",
       "      <th>room_type_Entire home/apt</th>\n",
       "      <td>0.399869</td>\n",
       "    </tr>\n",
       "    <tr>\n",
       "      <th>longitude</th>\n",
       "      <td>0.153907</td>\n",
       "    </tr>\n",
       "    <tr>\n",
       "      <th>latitude</th>\n",
       "      <td>0.141177</td>\n",
       "    </tr>\n",
       "    <tr>\n",
       "      <th>bedrooms</th>\n",
       "      <td>0.059363</td>\n",
       "    </tr>\n",
       "    <tr>\n",
       "      <th>accommodates</th>\n",
       "      <td>0.033460</td>\n",
       "    </tr>\n",
       "    <tr>\n",
       "      <th>review_days</th>\n",
       "      <td>0.030679</td>\n",
       "    </tr>\n",
       "    <tr>\n",
       "      <th>number_of_reviews</th>\n",
       "      <td>0.030421</td>\n",
       "    </tr>\n",
       "    <tr>\n",
       "      <th>review_scores_rating</th>\n",
       "      <td>0.024356</td>\n",
       "    </tr>\n",
       "    <tr>\n",
       "      <th>bathrooms</th>\n",
       "      <td>0.019378</td>\n",
       "    </tr>\n",
       "    <tr>\n",
       "      <th>host_response_rate</th>\n",
       "      <td>0.017567</td>\n",
       "    </tr>\n",
       "    <tr>\n",
       "      <th>beds</th>\n",
       "      <td>0.009349</td>\n",
       "    </tr>\n",
       "    <tr>\n",
       "      <th>cleaning_fee</th>\n",
       "      <td>0.007370</td>\n",
       "    </tr>\n",
       "    <tr>\n",
       "      <th>host_identity_verified</th>\n",
       "      <td>0.007162</td>\n",
       "    </tr>\n",
       "    <tr>\n",
       "      <th>instant_bookable</th>\n",
       "      <td>0.007129</td>\n",
       "    </tr>\n",
       "    <tr>\n",
       "      <th>room_type_Private room</th>\n",
       "      <td>0.005974</td>\n",
       "    </tr>\n",
       "    <tr>\n",
       "      <th>property_type_Apartment</th>\n",
       "      <td>0.005698</td>\n",
       "    </tr>\n",
       "    <tr>\n",
       "      <th>cancellation_policy_flexible</th>\n",
       "      <td>0.005375</td>\n",
       "    </tr>\n",
       "    <tr>\n",
       "      <th>cancellation_policy_strict</th>\n",
       "      <td>0.005314</td>\n",
       "    </tr>\n",
       "    <tr>\n",
       "      <th>city_DC</th>\n",
       "      <td>0.004969</td>\n",
       "    </tr>\n",
       "    <tr>\n",
       "      <th>cancellation_policy_moderate</th>\n",
       "      <td>0.004696</td>\n",
       "    </tr>\n",
       "    <tr>\n",
       "      <th>property_type_House</th>\n",
       "      <td>0.004568</td>\n",
       "    </tr>\n",
       "    <tr>\n",
       "      <th>room_type_Shared room</th>\n",
       "      <td>0.004441</td>\n",
       "    </tr>\n",
       "    <tr>\n",
       "      <th>property_type_Condominium</th>\n",
       "      <td>0.002491</td>\n",
       "    </tr>\n",
       "    <tr>\n",
       "      <th>bed_type_Real Bed</th>\n",
       "      <td>0.001672</td>\n",
       "    </tr>\n",
       "    <tr>\n",
       "      <th>property_type_Loft</th>\n",
       "      <td>0.001669</td>\n",
       "    </tr>\n",
       "    <tr>\n",
       "      <th>property_type_Townhouse</th>\n",
       "      <td>0.001470</td>\n",
       "    </tr>\n",
       "    <tr>\n",
       "      <th>property_type_Bed &amp; Breakfast</th>\n",
       "      <td>0.001152</td>\n",
       "    </tr>\n",
       "    <tr>\n",
       "      <th>property_type_Other</th>\n",
       "      <td>0.000939</td>\n",
       "    </tr>\n",
       "    <tr>\n",
       "      <th>host_has_profile_pic</th>\n",
       "      <td>0.000885</td>\n",
       "    </tr>\n",
       "    <tr>\n",
       "      <th>bed_type_Pull-out Sofa</th>\n",
       "      <td>0.000876</td>\n",
       "    </tr>\n",
       "  </tbody>\n",
       "</table>\n",
       "</div>"
      ],
      "text/plain": [
       "                               importance\n",
       "room_type_Entire home/apt        0.399869\n",
       "longitude                        0.153907\n",
       "latitude                         0.141177\n",
       "bedrooms                         0.059363\n",
       "accommodates                     0.033460\n",
       "review_days                      0.030679\n",
       "number_of_reviews                0.030421\n",
       "review_scores_rating             0.024356\n",
       "bathrooms                        0.019378\n",
       "host_response_rate               0.017567\n",
       "beds                             0.009349\n",
       "cleaning_fee                     0.007370\n",
       "host_identity_verified           0.007162\n",
       "instant_bookable                 0.007129\n",
       "room_type_Private room           0.005974\n",
       "property_type_Apartment          0.005698\n",
       "cancellation_policy_flexible     0.005375\n",
       "cancellation_policy_strict       0.005314\n",
       "city_DC                          0.004969\n",
       "cancellation_policy_moderate     0.004696\n",
       "property_type_House              0.004568\n",
       "room_type_Shared room            0.004441\n",
       "property_type_Condominium        0.002491\n",
       "bed_type_Real Bed                0.001672\n",
       "property_type_Loft               0.001669\n",
       "property_type_Townhouse          0.001470\n",
       "property_type_Bed & Breakfast    0.001152\n",
       "property_type_Other              0.000939\n",
       "host_has_profile_pic             0.000885\n",
       "bed_type_Pull-out Sofa           0.000876"
      ]
     },
     "execution_count": 42,
     "metadata": {},
     "output_type": "execute_result"
    }
   ],
   "source": [
    "# This is the order of importance in the features, we could train a model with only the most important ones and see if the RMSE is even lower.\n",
    "feature_importances[0:30]"
   ]
  },
  {
   "cell_type": "markdown",
   "metadata": {},
   "source": [
    "### XGBoost model"
   ]
  },
  {
   "cell_type": "code",
   "execution_count": 43,
   "metadata": {
    "ExecuteTime": {
     "end_time": "2020-04-10T18:44:54.358176Z",
     "start_time": "2020-04-10T18:44:54.349641Z"
    }
   },
   "outputs": [],
   "source": [
    "#make an instance of the model\n",
    "model_xgb = xgb.XGBRegressor(colsample_bytree=0.4603, gamma=0.0468, \n",
    "                             learning_rate=0.05, max_depth=10, \n",
    "                             min_child_weight=1.7817, n_estimators=2200,\n",
    "                             reg_alpha=0.4640, reg_lambda=0.8571,\n",
    "                             subsample=0.5213, silent=1,\n",
    "                             random_state =7, nthread = -1)"
   ]
  },
  {
   "cell_type": "code",
   "execution_count": 44,
   "metadata": {
    "ExecuteTime": {
     "end_time": "2020-04-10T18:50:15.355257Z",
     "start_time": "2020-04-10T18:44:54.360476Z"
    }
   },
   "outputs": [
    {
     "name": "stderr",
     "output_type": "stream",
     "text": [
      "/home/vero-apli/.local/lib/python3.7/site-packages/xgboost/core.py:587: FutureWarning: Series.base is deprecated and will be removed in a future version\n",
      "  if getattr(data, 'base', None) is not None and \\\n",
      "/home/vero-apli/.local/lib/python3.7/site-packages/xgboost/core.py:588: FutureWarning: Series.base is deprecated and will be removed in a future version\n",
      "  data.base is not None and isinstance(data, np.ndarray) \\\n"
     ]
    }
   ],
   "source": [
    "#Train the model\n",
    "model_xgb.fit(train_dataset, data[data.dataset == \"train\"].log_price)\n",
    "# Make predictions\n",
    "xgb_train_pred = model_xgb.predict(train_dataset)"
   ]
  },
  {
   "cell_type": "code",
   "execution_count": 45,
   "metadata": {
    "ExecuteTime": {
     "end_time": "2020-04-10T18:50:15.366025Z",
     "start_time": "2020-04-10T18:50:15.357788Z"
    }
   },
   "outputs": [
    {
     "name": "stdout",
     "output_type": "stream",
     "text": [
      "r2_score for model_xgb: 0.9311063958083231\n"
     ]
    }
   ],
   "source": [
    "print(\"r2_score for model_xgb: \" + str(r2_score(train_y,xgb_train_pred)))"
   ]
  },
  {
   "cell_type": "code",
   "execution_count": 46,
   "metadata": {
    "ExecuteTime": {
     "end_time": "2020-04-10T18:50:15.374363Z",
     "start_time": "2020-04-10T18:50:15.368753Z"
    }
   },
   "outputs": [
    {
     "name": "stdout",
     "output_type": "stream",
     "text": [
      "RMSE for model_xgb: 0.1558127195614817\n"
     ]
    }
   ],
   "source": [
    "rmse = str(np.sqrt(np.mean((train_y - xgb_train_pred)**2)))    \n",
    "print(\"RMSE for model_xgb: \" + rmse)"
   ]
  },
  {
   "cell_type": "code",
   "execution_count": 47,
   "metadata": {
    "ExecuteTime": {
     "end_time": "2020-04-10T18:50:19.867416Z",
     "start_time": "2020-04-10T18:50:15.376332Z"
    }
   },
   "outputs": [],
   "source": [
    "feature_importances = pd.DataFrame(model_xgb.get_booster().get_score(importance_type = \"gain\").values(),\n",
    "                       index = model_xgb.get_booster().get_score(importance_type = \"gain\").keys(),\n",
    "                        columns=['importance']).sort_values('importance',ascending=False)"
   ]
  },
  {
   "cell_type": "code",
   "execution_count": 48,
   "metadata": {
    "ExecuteTime": {
     "end_time": "2020-04-10T18:50:19.879578Z",
     "start_time": "2020-04-10T18:50:19.868883Z"
    }
   },
   "outputs": [
    {
     "data": {
      "text/html": [
       "<div>\n",
       "<style scoped>\n",
       "    .dataframe tbody tr th:only-of-type {\n",
       "        vertical-align: middle;\n",
       "    }\n",
       "\n",
       "    .dataframe tbody tr th {\n",
       "        vertical-align: top;\n",
       "    }\n",
       "\n",
       "    .dataframe thead th {\n",
       "        text-align: right;\n",
       "    }\n",
       "</style>\n",
       "<table border=\"1\" class=\"dataframe\">\n",
       "  <thead>\n",
       "    <tr style=\"text-align: right;\">\n",
       "      <th></th>\n",
       "      <th>importance</th>\n",
       "    </tr>\n",
       "  </thead>\n",
       "  <tbody>\n",
       "    <tr>\n",
       "      <th>room_type_Entire home/apt</th>\n",
       "      <td>5.098068</td>\n",
       "    </tr>\n",
       "    <tr>\n",
       "      <th>room_type_Private room</th>\n",
       "      <td>3.305752</td>\n",
       "    </tr>\n",
       "    <tr>\n",
       "      <th>room_type_Shared room</th>\n",
       "      <td>1.718691</td>\n",
       "    </tr>\n",
       "    <tr>\n",
       "      <th>property_type_Dorm</th>\n",
       "      <td>1.226445</td>\n",
       "    </tr>\n",
       "    <tr>\n",
       "      <th>city_SF</th>\n",
       "      <td>0.764460</td>\n",
       "    </tr>\n",
       "    <tr>\n",
       "      <th>accommodates</th>\n",
       "      <td>0.708131</td>\n",
       "    </tr>\n",
       "    <tr>\n",
       "      <th>bedrooms</th>\n",
       "      <td>0.667423</td>\n",
       "    </tr>\n",
       "    <tr>\n",
       "      <th>cancellation_policy_super_strict_30</th>\n",
       "      <td>0.537155</td>\n",
       "    </tr>\n",
       "    <tr>\n",
       "      <th>property_type_Hostel</th>\n",
       "      <td>0.514664</td>\n",
       "    </tr>\n",
       "    <tr>\n",
       "      <th>beds</th>\n",
       "      <td>0.363365</td>\n",
       "    </tr>\n",
       "    <tr>\n",
       "      <th>city_LA</th>\n",
       "      <td>0.354814</td>\n",
       "    </tr>\n",
       "    <tr>\n",
       "      <th>bathrooms</th>\n",
       "      <td>0.334959</td>\n",
       "    </tr>\n",
       "    <tr>\n",
       "      <th>property_type_Boutique hotel</th>\n",
       "      <td>0.291219</td>\n",
       "    </tr>\n",
       "    <tr>\n",
       "      <th>property_type_Bed &amp; Breakfast</th>\n",
       "      <td>0.273650</td>\n",
       "    </tr>\n",
       "    <tr>\n",
       "      <th>longitude</th>\n",
       "      <td>0.266059</td>\n",
       "    </tr>\n",
       "    <tr>\n",
       "      <th>property_type_House</th>\n",
       "      <td>0.256226</td>\n",
       "    </tr>\n",
       "    <tr>\n",
       "      <th>latitude</th>\n",
       "      <td>0.249737</td>\n",
       "    </tr>\n",
       "    <tr>\n",
       "      <th>property_type_Castle</th>\n",
       "      <td>0.243896</td>\n",
       "    </tr>\n",
       "    <tr>\n",
       "      <th>property_type_Treehouse</th>\n",
       "      <td>0.241952</td>\n",
       "    </tr>\n",
       "    <tr>\n",
       "      <th>property_type_Camper/RV</th>\n",
       "      <td>0.240139</td>\n",
       "    </tr>\n",
       "    <tr>\n",
       "      <th>property_type_Hut</th>\n",
       "      <td>0.239273</td>\n",
       "    </tr>\n",
       "    <tr>\n",
       "      <th>property_type_Serviced apartment</th>\n",
       "      <td>0.233342</td>\n",
       "    </tr>\n",
       "    <tr>\n",
       "      <th>property_type_In-law</th>\n",
       "      <td>0.204860</td>\n",
       "    </tr>\n",
       "    <tr>\n",
       "      <th>property_type_Boat</th>\n",
       "      <td>0.202065</td>\n",
       "    </tr>\n",
       "    <tr>\n",
       "      <th>city_Chicago</th>\n",
       "      <td>0.200424</td>\n",
       "    </tr>\n",
       "    <tr>\n",
       "      <th>bed_type_Real Bed</th>\n",
       "      <td>0.198759</td>\n",
       "    </tr>\n",
       "    <tr>\n",
       "      <th>property_type_Villa</th>\n",
       "      <td>0.190160</td>\n",
       "    </tr>\n",
       "    <tr>\n",
       "      <th>property_type_Loft</th>\n",
       "      <td>0.188864</td>\n",
       "    </tr>\n",
       "    <tr>\n",
       "      <th>city_DC</th>\n",
       "      <td>0.179725</td>\n",
       "    </tr>\n",
       "    <tr>\n",
       "      <th>bed_type_Couch</th>\n",
       "      <td>0.178382</td>\n",
       "    </tr>\n",
       "  </tbody>\n",
       "</table>\n",
       "</div>"
      ],
      "text/plain": [
       "                                     importance\n",
       "room_type_Entire home/apt              5.098068\n",
       "room_type_Private room                 3.305752\n",
       "room_type_Shared room                  1.718691\n",
       "property_type_Dorm                     1.226445\n",
       "city_SF                                0.764460\n",
       "accommodates                           0.708131\n",
       "bedrooms                               0.667423\n",
       "cancellation_policy_super_strict_30    0.537155\n",
       "property_type_Hostel                   0.514664\n",
       "beds                                   0.363365\n",
       "city_LA                                0.354814\n",
       "bathrooms                              0.334959\n",
       "property_type_Boutique hotel           0.291219\n",
       "property_type_Bed & Breakfast          0.273650\n",
       "longitude                              0.266059\n",
       "property_type_House                    0.256226\n",
       "latitude                               0.249737\n",
       "property_type_Castle                   0.243896\n",
       "property_type_Treehouse                0.241952\n",
       "property_type_Camper/RV                0.240139\n",
       "property_type_Hut                      0.239273\n",
       "property_type_Serviced apartment       0.233342\n",
       "property_type_In-law                   0.204860\n",
       "property_type_Boat                     0.202065\n",
       "city_Chicago                           0.200424\n",
       "bed_type_Real Bed                      0.198759\n",
       "property_type_Villa                    0.190160\n",
       "property_type_Loft                     0.188864\n",
       "city_DC                                0.179725\n",
       "bed_type_Couch                         0.178382"
      ]
     },
     "execution_count": 48,
     "metadata": {},
     "output_type": "execute_result"
    }
   ],
   "source": [
    "feature_importances[0:30]"
   ]
  },
  {
   "cell_type": "markdown",
   "metadata": {
    "ExecuteTime": {
     "end_time": "2020-04-10T05:58:22.524710Z",
     "start_time": "2020-04-10T05:58:22.519271Z"
    }
   },
   "source": [
    "The best model of the three previous ones is \"Random Forest model with oob_score\" because it has the lowest RMSE,\n",
    "with RMSE = 0.12, so we will use this model to predict the test_y values"
   ]
  },
  {
   "cell_type": "code",
   "execution_count": 49,
   "metadata": {
    "ExecuteTime": {
     "end_time": "2020-04-10T18:50:20.862921Z",
     "start_time": "2020-04-10T18:50:19.882062Z"
    }
   },
   "outputs": [],
   "source": [
    "# make predictions for test data\n",
    "final_prediction = rf.predict(test_x)"
   ]
  },
  {
   "cell_type": "code",
   "execution_count": 50,
   "metadata": {
    "ExecuteTime": {
     "end_time": "2020-04-10T18:50:20.951635Z",
     "start_time": "2020-04-10T18:50:20.864443Z"
    }
   },
   "outputs": [],
   "source": [
    "# save final predictions in the test data\n",
    "submission = pd.DataFrame(np.column_stack([test.id, final_prediction]), columns = ['id','log_price'])\n",
    "submission.to_csv(\"sample_submission.csv\", index = False)"
   ]
  },
  {
   "cell_type": "code",
   "execution_count": 51,
   "metadata": {
    "ExecuteTime": {
     "end_time": "2020-04-10T18:50:22.420985Z",
     "start_time": "2020-04-10T18:50:20.953201Z"
    }
   },
   "outputs": [],
   "source": [
    " # save the model \n",
    "filename = 'RFR_Airbnb.sav'\n",
    "pickle.dump(rf, open(filename, 'wb'))"
   ]
  },
  {
   "cell_type": "markdown",
   "metadata": {
    "ExecuteTime": {
     "end_time": "2020-04-10T19:05:14.846057Z",
     "start_time": "2020-04-10T19:05:14.836336Z"
    }
   },
   "source": [
    "## How to deploy a Machine Learning model on AWS Lambda?"
   ]
  },
  {
   "cell_type": "markdown",
   "metadata": {},
   "source": [
    "This is a brief description of what you need to do to get a model into production"
   ]
  },
  {
   "cell_type": "markdown",
   "metadata": {},
   "source": [
    "To deploy the mode in aws for example the steps, in general, are:\n",
    " * Configure the serverless.yml file to include the environment variables and also the function that will be created. \n",
    " * Create handler function, one of the parameters in the \"event\" will be a dictionary with the inputs of the model.\n",
    " * Have the model saved in s3 and import it into the function.\n",
    " * Make sure that the input variables to the model are in the format and scale that we want.\n",
    " * Call the predict function with the model we have imported before and pass as variables the features that are    already ready in order to get the result of the prediction.\n",
    " * Test our lambda from postman for example trying to get the price prediction.\n",
    "\n"
   ]
  },
  {
   "cell_type": "code",
   "execution_count": null,
   "metadata": {},
   "outputs": [],
   "source": []
  }
 ],
 "metadata": {
  "kernelspec": {
   "display_name": "Python 3",
   "language": "python",
   "name": "python3"
  },
  "language_info": {
   "codemirror_mode": {
    "name": "ipython",
    "version": 3
   },
   "file_extension": ".py",
   "mimetype": "text/x-python",
   "name": "python",
   "nbconvert_exporter": "python",
   "pygments_lexer": "ipython3",
   "version": "3.7.4"
  },
  "toc": {
   "base_numbering": 1,
   "nav_menu": {},
   "number_sections": true,
   "sideBar": true,
   "skip_h1_title": false,
   "title_cell": "Table of Contents",
   "title_sidebar": "Contents",
   "toc_cell": false,
   "toc_position": {
    "height": "calc(100% - 180px)",
    "left": "10px",
    "top": "150px",
    "width": "165px"
   },
   "toc_section_display": true,
   "toc_window_display": true
  }
 },
 "nbformat": 4,
 "nbformat_minor": 2
}
